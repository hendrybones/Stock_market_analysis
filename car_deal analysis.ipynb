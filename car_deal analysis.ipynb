{
 "cells": [
  {
   "cell_type": "markdown",
   "id": "c8494cb5",
   "metadata": {},
   "source": [
    "## Car yard Analysis"
   ]
  },
  {
   "cell_type": "code",
   "execution_count": 2,
   "id": "0d9781c2",
   "metadata": {},
   "outputs": [
    {
     "data": {
      "text/html": [
       "<div>\n",
       "<style scoped>\n",
       "    .dataframe tbody tr th:only-of-type {\n",
       "        vertical-align: middle;\n",
       "    }\n",
       "\n",
       "    .dataframe tbody tr th {\n",
       "        vertical-align: top;\n",
       "    }\n",
       "\n",
       "    .dataframe thead th {\n",
       "        text-align: right;\n",
       "    }\n",
       "</style>\n",
       "<table border=\"1\" class=\"dataframe\">\n",
       "  <thead>\n",
       "    <tr style=\"text-align: right;\">\n",
       "      <th></th>\n",
       "      <th>Make</th>\n",
       "      <th>Model</th>\n",
       "      <th>Color</th>\n",
       "      <th>Mileage</th>\n",
       "      <th>Price</th>\n",
       "      <th>Cost</th>\n",
       "    </tr>\n",
       "  </thead>\n",
       "  <tbody>\n",
       "    <tr>\n",
       "      <th>0</th>\n",
       "      <td>Honda</td>\n",
       "      <td>Accord</td>\n",
       "      <td>Red</td>\n",
       "      <td>63512</td>\n",
       "      <td>4000</td>\n",
       "      <td>3000</td>\n",
       "    </tr>\n",
       "    <tr>\n",
       "      <th>1</th>\n",
       "      <td>Honda</td>\n",
       "      <td>Accord</td>\n",
       "      <td>Blue</td>\n",
       "      <td>95135</td>\n",
       "      <td>2500</td>\n",
       "      <td>2000</td>\n",
       "    </tr>\n",
       "    <tr>\n",
       "      <th>2</th>\n",
       "      <td>Honda</td>\n",
       "      <td>Accord</td>\n",
       "      <td>Silver</td>\n",
       "      <td>101354</td>\n",
       "      <td>2000</td>\n",
       "      <td>1500</td>\n",
       "    </tr>\n",
       "    <tr>\n",
       "      <th>3</th>\n",
       "      <td>Toyota</td>\n",
       "      <td>Camry</td>\n",
       "      <td>Black</td>\n",
       "      <td>75006</td>\n",
       "      <td>2198</td>\n",
       "      <td>1900</td>\n",
       "    </tr>\n",
       "    <tr>\n",
       "      <th>4</th>\n",
       "      <td>Nissan</td>\n",
       "      <td>Altima</td>\n",
       "      <td>Green</td>\n",
       "      <td>69847</td>\n",
       "      <td>3826</td>\n",
       "      <td>3000</td>\n",
       "    </tr>\n",
       "  </tbody>\n",
       "</table>\n",
       "</div>"
      ],
      "text/plain": [
       "     Make   Model   Color  Mileage  Price  Cost\n",
       "0   Honda  Accord     Red    63512   4000  3000\n",
       "1   Honda  Accord    Blue    95135   2500  2000\n",
       "2   Honda  Accord  Silver   101354   2000  1500\n",
       "3  Toyota   Camry   Black    75006   2198  1900\n",
       "4  Nissan  Altima   Green    69847   3826  3000"
      ]
     },
     "execution_count": 2,
     "metadata": {},
     "output_type": "execute_result"
    }
   ],
   "source": [
    "import pandas as pd\n",
    "\n",
    "car = pd.read_excel(\"Car Dealer.xlsx\")\n",
    "car.head()"
   ]
  },
  {
   "cell_type": "markdown",
   "id": "da3c2bee",
   "metadata": {},
   "source": [
    "## How to dispaly specific columns"
   ]
  },
  {
   "cell_type": "code",
   "execution_count": 16,
   "id": "32310a2d",
   "metadata": {},
   "outputs": [
    {
     "data": {
      "text/html": [
       "<div>\n",
       "<style scoped>\n",
       "    .dataframe tbody tr th:only-of-type {\n",
       "        vertical-align: middle;\n",
       "    }\n",
       "\n",
       "    .dataframe tbody tr th {\n",
       "        vertical-align: top;\n",
       "    }\n",
       "\n",
       "    .dataframe thead th {\n",
       "        text-align: right;\n",
       "    }\n",
       "</style>\n",
       "<table border=\"1\" class=\"dataframe\">\n",
       "  <thead>\n",
       "    <tr style=\"text-align: right;\">\n",
       "      <th></th>\n",
       "      <th>Make</th>\n",
       "      <th>Model</th>\n",
       "      <th>Color</th>\n",
       "    </tr>\n",
       "  </thead>\n",
       "  <tbody>\n",
       "    <tr>\n",
       "      <th>0</th>\n",
       "      <td>Honda</td>\n",
       "      <td>Accord</td>\n",
       "      <td>Red</td>\n",
       "    </tr>\n",
       "    <tr>\n",
       "      <th>1</th>\n",
       "      <td>Honda</td>\n",
       "      <td>Accord</td>\n",
       "      <td>Blue</td>\n",
       "    </tr>\n",
       "    <tr>\n",
       "      <th>2</th>\n",
       "      <td>Honda</td>\n",
       "      <td>Accord</td>\n",
       "      <td>Silver</td>\n",
       "    </tr>\n",
       "    <tr>\n",
       "      <th>3</th>\n",
       "      <td>Toyota</td>\n",
       "      <td>Camry</td>\n",
       "      <td>Black</td>\n",
       "    </tr>\n",
       "    <tr>\n",
       "      <th>4</th>\n",
       "      <td>Nissan</td>\n",
       "      <td>Altima</td>\n",
       "      <td>Green</td>\n",
       "    </tr>\n",
       "  </tbody>\n",
       "</table>\n",
       "</div>"
      ],
      "text/plain": [
       "     Make   Model   Color\n",
       "0   Honda  Accord     Red\n",
       "1   Honda  Accord    Blue\n",
       "2   Honda  Accord  Silver\n",
       "3  Toyota   Camry   Black\n",
       "4  Nissan  Altima   Green"
      ]
     },
     "execution_count": 16,
     "metadata": {},
     "output_type": "execute_result"
    }
   ],
   "source": [
    "car = pd.read_excel(\"Car Dealer.xlsx\", usecols='A, B, C')\n",
    "car.head()"
   ]
  },
  {
   "cell_type": "markdown",
   "id": "feaa0acb",
   "metadata": {},
   "source": [
    "## Count the number of cars"
   ]
  },
  {
   "cell_type": "code",
   "execution_count": 18,
   "id": "17652698",
   "metadata": {},
   "outputs": [
    {
     "name": "stdout",
     "output_type": "stream",
     "text": [
      "24\n"
     ]
    }
   ],
   "source": [
    "total_cars=car.shape[0]\n",
    "print(total_cars)"
   ]
  },
  {
   "cell_type": "markdown",
   "id": "60466568",
   "metadata": {},
   "source": [
    "## Summary of car colors"
   ]
  },
  {
   "cell_type": "code",
   "execution_count": 24,
   "id": "b8e5c694",
   "metadata": {},
   "outputs": [
    {
     "name": "stdout",
     "output_type": "stream",
     "text": [
      "Color  Black  Blue  Green  Red  Silver  White\n",
      "Make       6     3      3    3       6      3\n",
      "Model      6     3      3    3       6      3\n"
     ]
    }
   ],
   "source": [
    "colors = car.pivot_table(index=[], columns=['Color'], aggfunc='count')\n",
    "print(colors)"
   ]
  },
  {
   "cell_type": "markdown",
   "id": "1efb0508",
   "metadata": {},
   "source": [
    "## Adding discount column"
   ]
  },
  {
   "cell_type": "code",
   "execution_count": 5,
   "id": "a8b3481f",
   "metadata": {},
   "outputs": [
    {
     "name": "stdout",
     "output_type": "stream",
     "text": [
      "         Make      Model   Color  Mileage  Price  Cost  Discounted_Price\n",
      "0       Honda     Accord     Red    63512   4000  3000              1000\n",
      "1       Honda     Accord    Blue    95135   2500  2000               500\n",
      "2       Honda     Accord  Silver   101354   2000  1500               500\n",
      "3      Toyota      Camry   Black    75006   2198  1900               298\n",
      "4      Nissan     Altima   Green    69847   3826  3000               826\n",
      "5      Nissan     Altima   Green    55233   2970  2500               470\n",
      "6      Toyota    Corolla   Black    87278   2224  2100               124\n",
      "7      Toyota    Corolla    Blue   130684   2798  2200               598\n",
      "8      Toyota    Corolla  Silver    59169   2160  2000               160\n",
      "9       Honda      Civic   White   138789   2723  1900               823\n",
      "10       Ford      F-150   Black    89073   3950  3000               950\n",
      "11  Chevrolet  Silverado   Green   109231   4959  4500               459\n",
      "12  Chevrolet     Impala  Silver    87675   3791  3500               291\n",
      "13  Chevrolet     Impala   White   140811   2340  2000               340\n",
      "14  Chevrolet     Malibu   White   139300   3361  3000               361\n",
      "15       Ford     Escape   Black    63259   3196  3050               146\n",
      "16       Ford     Escape     Red    40826   4397  3900               497\n",
      "17       Ford    Mustang  Silver    41560   3706  3100               606\n",
      "18      Honda        CRV    Blue    49326   4745  4100               645\n",
      "19     Nissan     Maxima     Red   101856   2914  2500               414\n",
      "20       Ford     Fusion   Black    42542   2659  2100               559\n",
      "21      Dodge    Charger  Silver    34853   4349  3500               849\n",
      "22      Dodge    Charger  Silver    58173   4252  4000               252\n",
      "23      Dodge    Charger   Black   136775   2090  1800               290\n"
     ]
    }
   ],
   "source": [
    "import pandas as pd\n",
    "car = pd.read_excel(\"Car Dealer.xlsx\")\n",
    "car['Discounted_Price'] = car.apply(lambda row: row.Price - row.Cost, axis = 1)\n",
    "print(car)\n",
    "                                    "
   ]
  },
  {
   "cell_type": "markdown",
   "id": "b4f0a398",
   "metadata": {},
   "source": [
    "## Summary of number of each make in the yard"
   ]
  },
  {
   "cell_type": "code",
   "execution_count": 7,
   "id": "f2f07872",
   "metadata": {},
   "outputs": [
    {
     "name": "stdout",
     "output_type": "stream",
     "text": [
      "Make              Chevrolet  Dodge  Ford  Honda  Nissan  Toyota\n",
      "Color                     4      3     5      5       3       4\n",
      "Cost                      4      3     5      5       3       4\n",
      "Discounted_Price          4      3     5      5       3       4\n",
      "Mileage                   4      3     5      5       3       4\n",
      "Model                     4      3     5      5       3       4\n",
      "Price                     4      3     5      5       3       4\n"
     ]
    }
   ],
   "source": [
    "colors = car.pivot_table(index=[], columns=['Make'], aggfunc='count')\n",
    "print(colors)"
   ]
  },
  {
   "cell_type": "markdown",
   "id": "2ad82ab3",
   "metadata": {},
   "source": [
    "## List of car make with mileage gratee than 30000"
   ]
  },
  {
   "cell_type": "code",
   "execution_count": 19,
   "id": "24947f87",
   "metadata": {},
   "outputs": [
    {
     "data": {
      "text/html": [
       "<div>\n",
       "<style scoped>\n",
       "    .dataframe tbody tr th:only-of-type {\n",
       "        vertical-align: middle;\n",
       "    }\n",
       "\n",
       "    .dataframe tbody tr th {\n",
       "        vertical-align: top;\n",
       "    }\n",
       "\n",
       "    .dataframe thead th {\n",
       "        text-align: right;\n",
       "    }\n",
       "</style>\n",
       "<table border=\"1\" class=\"dataframe\">\n",
       "  <thead>\n",
       "    <tr style=\"text-align: right;\">\n",
       "      <th></th>\n",
       "      <th>Make</th>\n",
       "      <th>Model</th>\n",
       "      <th>Color</th>\n",
       "      <th>Mileage</th>\n",
       "      <th>Price</th>\n",
       "      <th>Cost</th>\n",
       "      <th>Discounted_Price</th>\n",
       "    </tr>\n",
       "  </thead>\n",
       "  <tbody>\n",
       "    <tr>\n",
       "      <th>1</th>\n",
       "      <td>Honda</td>\n",
       "      <td>Accord</td>\n",
       "      <td>Blue</td>\n",
       "      <td>95135</td>\n",
       "      <td>2500</td>\n",
       "      <td>2000</td>\n",
       "      <td>500</td>\n",
       "    </tr>\n",
       "    <tr>\n",
       "      <th>2</th>\n",
       "      <td>Honda</td>\n",
       "      <td>Accord</td>\n",
       "      <td>Silver</td>\n",
       "      <td>101354</td>\n",
       "      <td>2000</td>\n",
       "      <td>1500</td>\n",
       "      <td>500</td>\n",
       "    </tr>\n",
       "    <tr>\n",
       "      <th>6</th>\n",
       "      <td>Toyota</td>\n",
       "      <td>Corolla</td>\n",
       "      <td>Black</td>\n",
       "      <td>87278</td>\n",
       "      <td>2224</td>\n",
       "      <td>2100</td>\n",
       "      <td>124</td>\n",
       "    </tr>\n",
       "    <tr>\n",
       "      <th>7</th>\n",
       "      <td>Toyota</td>\n",
       "      <td>Corolla</td>\n",
       "      <td>Blue</td>\n",
       "      <td>130684</td>\n",
       "      <td>2798</td>\n",
       "      <td>2200</td>\n",
       "      <td>598</td>\n",
       "    </tr>\n",
       "    <tr>\n",
       "      <th>9</th>\n",
       "      <td>Honda</td>\n",
       "      <td>Civic</td>\n",
       "      <td>White</td>\n",
       "      <td>138789</td>\n",
       "      <td>2723</td>\n",
       "      <td>1900</td>\n",
       "      <td>823</td>\n",
       "    </tr>\n",
       "    <tr>\n",
       "      <th>10</th>\n",
       "      <td>Ford</td>\n",
       "      <td>F-150</td>\n",
       "      <td>Black</td>\n",
       "      <td>89073</td>\n",
       "      <td>3950</td>\n",
       "      <td>3000</td>\n",
       "      <td>950</td>\n",
       "    </tr>\n",
       "    <tr>\n",
       "      <th>11</th>\n",
       "      <td>Chevrolet</td>\n",
       "      <td>Silverado</td>\n",
       "      <td>Green</td>\n",
       "      <td>109231</td>\n",
       "      <td>4959</td>\n",
       "      <td>4500</td>\n",
       "      <td>459</td>\n",
       "    </tr>\n",
       "    <tr>\n",
       "      <th>12</th>\n",
       "      <td>Chevrolet</td>\n",
       "      <td>Impala</td>\n",
       "      <td>Silver</td>\n",
       "      <td>87675</td>\n",
       "      <td>3791</td>\n",
       "      <td>3500</td>\n",
       "      <td>291</td>\n",
       "    </tr>\n",
       "    <tr>\n",
       "      <th>13</th>\n",
       "      <td>Chevrolet</td>\n",
       "      <td>Impala</td>\n",
       "      <td>White</td>\n",
       "      <td>140811</td>\n",
       "      <td>2340</td>\n",
       "      <td>2000</td>\n",
       "      <td>340</td>\n",
       "    </tr>\n",
       "    <tr>\n",
       "      <th>14</th>\n",
       "      <td>Chevrolet</td>\n",
       "      <td>Malibu</td>\n",
       "      <td>White</td>\n",
       "      <td>139300</td>\n",
       "      <td>3361</td>\n",
       "      <td>3000</td>\n",
       "      <td>361</td>\n",
       "    </tr>\n",
       "    <tr>\n",
       "      <th>19</th>\n",
       "      <td>Nissan</td>\n",
       "      <td>Maxima</td>\n",
       "      <td>Red</td>\n",
       "      <td>101856</td>\n",
       "      <td>2914</td>\n",
       "      <td>2500</td>\n",
       "      <td>414</td>\n",
       "    </tr>\n",
       "    <tr>\n",
       "      <th>23</th>\n",
       "      <td>Dodge</td>\n",
       "      <td>Charger</td>\n",
       "      <td>Black</td>\n",
       "      <td>136775</td>\n",
       "      <td>2090</td>\n",
       "      <td>1800</td>\n",
       "      <td>290</td>\n",
       "    </tr>\n",
       "  </tbody>\n",
       "</table>\n",
       "</div>"
      ],
      "text/plain": [
       "         Make      Model   Color  Mileage  Price  Cost  Discounted_Price\n",
       "1       Honda     Accord    Blue    95135   2500  2000               500\n",
       "2       Honda     Accord  Silver   101354   2000  1500               500\n",
       "6      Toyota    Corolla   Black    87278   2224  2100               124\n",
       "7      Toyota    Corolla    Blue   130684   2798  2200               598\n",
       "9       Honda      Civic   White   138789   2723  1900               823\n",
       "10       Ford      F-150   Black    89073   3950  3000               950\n",
       "11  Chevrolet  Silverado   Green   109231   4959  4500               459\n",
       "12  Chevrolet     Impala  Silver    87675   3791  3500               291\n",
       "13  Chevrolet     Impala   White   140811   2340  2000               340\n",
       "14  Chevrolet     Malibu   White   139300   3361  3000               361\n",
       "19     Nissan     Maxima     Red   101856   2914  2500               414\n",
       "23      Dodge    Charger   Black   136775   2090  1800               290"
      ]
     },
     "execution_count": 19,
     "metadata": {},
     "output_type": "execute_result"
    }
   ],
   "source": [
    "car[car['Mileage'] > 80000]\n"
   ]
  },
  {
   "cell_type": "markdown",
   "id": "dedcfb95",
   "metadata": {},
   "source": [
    "## mileage is greater than 80000 and price 2000 "
   ]
  },
  {
   "cell_type": "code",
   "execution_count": 24,
   "id": "70635b55",
   "metadata": {},
   "outputs": [
    {
     "data": {
      "text/html": [
       "<div>\n",
       "<style scoped>\n",
       "    .dataframe tbody tr th:only-of-type {\n",
       "        vertical-align: middle;\n",
       "    }\n",
       "\n",
       "    .dataframe tbody tr th {\n",
       "        vertical-align: top;\n",
       "    }\n",
       "\n",
       "    .dataframe thead th {\n",
       "        text-align: right;\n",
       "    }\n",
       "</style>\n",
       "<table border=\"1\" class=\"dataframe\">\n",
       "  <thead>\n",
       "    <tr style=\"text-align: right;\">\n",
       "      <th></th>\n",
       "      <th>Make</th>\n",
       "      <th>Model</th>\n",
       "      <th>Color</th>\n",
       "      <th>Mileage</th>\n",
       "      <th>Price</th>\n",
       "      <th>Cost</th>\n",
       "      <th>Discounted_Price</th>\n",
       "    </tr>\n",
       "  </thead>\n",
       "  <tbody>\n",
       "    <tr>\n",
       "      <th>10</th>\n",
       "      <td>Ford</td>\n",
       "      <td>F-150</td>\n",
       "      <td>Black</td>\n",
       "      <td>89073</td>\n",
       "      <td>3950</td>\n",
       "      <td>3000</td>\n",
       "      <td>950</td>\n",
       "    </tr>\n",
       "    <tr>\n",
       "      <th>11</th>\n",
       "      <td>Chevrolet</td>\n",
       "      <td>Silverado</td>\n",
       "      <td>Green</td>\n",
       "      <td>109231</td>\n",
       "      <td>4959</td>\n",
       "      <td>4500</td>\n",
       "      <td>459</td>\n",
       "    </tr>\n",
       "    <tr>\n",
       "      <th>12</th>\n",
       "      <td>Chevrolet</td>\n",
       "      <td>Impala</td>\n",
       "      <td>Silver</td>\n",
       "      <td>87675</td>\n",
       "      <td>3791</td>\n",
       "      <td>3500</td>\n",
       "      <td>291</td>\n",
       "    </tr>\n",
       "    <tr>\n",
       "      <th>14</th>\n",
       "      <td>Chevrolet</td>\n",
       "      <td>Malibu</td>\n",
       "      <td>White</td>\n",
       "      <td>139300</td>\n",
       "      <td>3361</td>\n",
       "      <td>3000</td>\n",
       "      <td>361</td>\n",
       "    </tr>\n",
       "  </tbody>\n",
       "</table>\n",
       "</div>"
      ],
      "text/plain": [
       "         Make      Model   Color  Mileage  Price  Cost  Discounted_Price\n",
       "10       Ford      F-150   Black    89073   3950  3000               950\n",
       "11  Chevrolet  Silverado   Green   109231   4959  4500               459\n",
       "12  Chevrolet     Impala  Silver    87675   3791  3500               291\n",
       "14  Chevrolet     Malibu   White   139300   3361  3000               361"
      ]
     },
     "execution_count": 24,
     "metadata": {},
     "output_type": "execute_result"
    }
   ],
   "source": [
    "car[(car['Mileage'] > 80000) & (car['Price'] >3000)]"
   ]
  },
  {
   "cell_type": "markdown",
   "id": "a90feff8",
   "metadata": {},
   "source": [
    "## SUM of each car make price"
   ]
  },
  {
   "cell_type": "code",
   "execution_count": 25,
   "id": "c669a3e9",
   "metadata": {},
   "outputs": [
    {
     "name": "stdout",
     "output_type": "stream",
     "text": [
      "Make    Chevrolet   Dodge    Ford   Honda  Nissan  Toyota\n",
      "Color                                                    \n",
      "Black         NaN  2090.0  9805.0     NaN     NaN  4422.0\n",
      "Blue          NaN     NaN     NaN  7245.0     NaN  2798.0\n",
      "Green      4959.0     NaN     NaN     NaN  6796.0     NaN\n",
      "Red           NaN     NaN  4397.0  4000.0  2914.0     NaN\n",
      "Silver     3791.0  8601.0  3706.0  2000.0     NaN  2160.0\n",
      "White      5701.0     NaN     NaN  2723.0     NaN     NaN\n"
     ]
    }
   ],
   "source": [
    "import pandas as pd\n",
    "import numpy as np\n",
    "car = pd.read_excel(\"Car Dealer.xlsx\")\n",
    "\n",
    "carMake = car.pivot_table(values='Price', index=['Color'],\n",
    "                    columns=['Make'], aggfunc=np.sum)\n",
    "print(carMake)"
   ]
  },
  {
   "cell_type": "markdown",
   "id": "0b6b5e0c",
   "metadata": {},
   "source": [
    "## count number of car make with certain colors"
   ]
  },
  {
   "cell_type": "code",
   "execution_count": 15,
   "id": "bc7894d2",
   "metadata": {},
   "outputs": [
    {
     "name": "stdout",
     "output_type": "stream",
     "text": [
      "Make    Chevrolet  Dodge  Ford  Honda  Nissan  Toyota\n",
      "Color                                                \n",
      "Black         NaN    1.0   3.0    NaN     NaN     2.0\n",
      "Blue          NaN    NaN   NaN    2.0     NaN     1.0\n",
      "Green         1.0    NaN   NaN    NaN     2.0     NaN\n",
      "Red           NaN    NaN   1.0    1.0     1.0     NaN\n",
      "Silver        1.0    2.0   1.0    1.0     NaN     1.0\n",
      "White         2.0    NaN   NaN    1.0     NaN     NaN\n"
     ]
    }
   ],
   "source": [
    "carColors = car.pivot_table(values='Price', index=['Color'],\n",
    "                    columns=['Make'], aggfunc=\"count\")\n",
    "print(carColors)"
   ]
  },
  {
   "cell_type": "markdown",
   "id": "ae13ba83",
   "metadata": {},
   "source": [
    "## calculate the average cost of each car make and model"
   ]
  },
  {
   "cell_type": "code",
   "execution_count": 14,
   "id": "6367509f",
   "metadata": {},
   "outputs": [
    {
     "name": "stdout",
     "output_type": "stream",
     "text": [
      "Color                 Black    Blue   Green     Red  Silver   White\n",
      "Make      Model                                                    \n",
      "Chevrolet Impala        NaN     NaN     NaN     NaN  3791.0  2340.0\n",
      "          Malibu        NaN     NaN     NaN     NaN     NaN  3361.0\n",
      "          Silverado     NaN     NaN  4959.0     NaN     NaN     NaN\n",
      "Dodge     Charger    2090.0     NaN     NaN     NaN  4300.5     NaN\n",
      "Ford      Escape     3196.0     NaN     NaN  4397.0     NaN     NaN\n",
      "          F-150      3950.0     NaN     NaN     NaN     NaN     NaN\n",
      "          Fusion     2659.0     NaN     NaN     NaN     NaN     NaN\n",
      "          Mustang       NaN     NaN     NaN     NaN  3706.0     NaN\n",
      "Honda     Accord        NaN  2500.0     NaN  4000.0  2000.0     NaN\n",
      "          CRV           NaN  4745.0     NaN     NaN     NaN     NaN\n",
      "          Civic         NaN     NaN     NaN     NaN     NaN  2723.0\n",
      "Nissan    Altima        NaN     NaN  3398.0     NaN     NaN     NaN\n",
      "          Maxima        NaN     NaN     NaN  2914.0     NaN     NaN\n",
      "Toyota    Camry      2198.0     NaN     NaN     NaN     NaN     NaN\n",
      "          Corolla    2224.0  2798.0     NaN     NaN  2160.0     NaN\n"
     ]
    }
   ],
   "source": [
    "carMake = car.pivot_table(values='Price', index=['Make','Model'],\n",
    "                    columns=['Color'], aggfunc=np.average)\n",
    "print(carMake)"
   ]
  },
  {
   "cell_type": "markdown",
   "id": "dee10703",
   "metadata": {},
   "source": [
    "## Using Python crosstab"
   ]
  },
  {
   "cell_type": "code",
   "execution_count": 26,
   "id": "12de11b2",
   "metadata": {},
   "outputs": [
    {
     "name": "stdout",
     "output_type": "stream",
     "text": [
      "Color      Black  Blue  Green  Red  Silver  White\n",
      "Make                                             \n",
      "Chevrolet      0     0      1    0       1      2\n",
      "Dodge          1     0      0    0       2      0\n",
      "Ford           3     0      0    1       1      0\n",
      "Honda          0     2      0    1       1      1\n",
      "Nissan         0     0      2    1       0      0\n",
      "Toyota         2     1      0    0       1      0\n"
     ]
    }
   ],
   "source": [
    "colorData=pd.crosstab(car['Make'], car['Color'])\n",
    "print(colorData)"
   ]
  },
  {
   "cell_type": "markdown",
   "id": "caaa3e17",
   "metadata": {},
   "source": [
    "## crosstabs can be simulated by group by"
   ]
  },
  {
   "cell_type": "code",
   "execution_count": 21,
   "id": "465ddac0",
   "metadata": {},
   "outputs": [
    {
     "data": {
      "text/html": [
       "<div>\n",
       "<style scoped>\n",
       "    .dataframe tbody tr th:only-of-type {\n",
       "        vertical-align: middle;\n",
       "    }\n",
       "\n",
       "    .dataframe tbody tr th {\n",
       "        vertical-align: top;\n",
       "    }\n",
       "\n",
       "    .dataframe thead th {\n",
       "        text-align: right;\n",
       "    }\n",
       "</style>\n",
       "<table border=\"1\" class=\"dataframe\">\n",
       "  <thead>\n",
       "    <tr style=\"text-align: right;\">\n",
       "      <th></th>\n",
       "      <th></th>\n",
       "      <th>Make</th>\n",
       "      <th>Color</th>\n",
       "    </tr>\n",
       "    <tr>\n",
       "      <th>Make</th>\n",
       "      <th>Color</th>\n",
       "      <th></th>\n",
       "      <th></th>\n",
       "    </tr>\n",
       "  </thead>\n",
       "  <tbody>\n",
       "    <tr>\n",
       "      <th rowspan=\"3\" valign=\"top\">Chevrolet</th>\n",
       "      <th>Green</th>\n",
       "      <td>1</td>\n",
       "      <td>1</td>\n",
       "    </tr>\n",
       "    <tr>\n",
       "      <th>Silver</th>\n",
       "      <td>1</td>\n",
       "      <td>1</td>\n",
       "    </tr>\n",
       "    <tr>\n",
       "      <th>White</th>\n",
       "      <td>2</td>\n",
       "      <td>2</td>\n",
       "    </tr>\n",
       "    <tr>\n",
       "      <th rowspan=\"2\" valign=\"top\">Dodge</th>\n",
       "      <th>Black</th>\n",
       "      <td>1</td>\n",
       "      <td>1</td>\n",
       "    </tr>\n",
       "    <tr>\n",
       "      <th>Silver</th>\n",
       "      <td>2</td>\n",
       "      <td>2</td>\n",
       "    </tr>\n",
       "    <tr>\n",
       "      <th rowspan=\"3\" valign=\"top\">Ford</th>\n",
       "      <th>Black</th>\n",
       "      <td>3</td>\n",
       "      <td>3</td>\n",
       "    </tr>\n",
       "    <tr>\n",
       "      <th>Red</th>\n",
       "      <td>1</td>\n",
       "      <td>1</td>\n",
       "    </tr>\n",
       "    <tr>\n",
       "      <th>Silver</th>\n",
       "      <td>1</td>\n",
       "      <td>1</td>\n",
       "    </tr>\n",
       "    <tr>\n",
       "      <th rowspan=\"4\" valign=\"top\">Honda</th>\n",
       "      <th>Blue</th>\n",
       "      <td>2</td>\n",
       "      <td>2</td>\n",
       "    </tr>\n",
       "    <tr>\n",
       "      <th>Red</th>\n",
       "      <td>1</td>\n",
       "      <td>1</td>\n",
       "    </tr>\n",
       "    <tr>\n",
       "      <th>Silver</th>\n",
       "      <td>1</td>\n",
       "      <td>1</td>\n",
       "    </tr>\n",
       "    <tr>\n",
       "      <th>White</th>\n",
       "      <td>1</td>\n",
       "      <td>1</td>\n",
       "    </tr>\n",
       "    <tr>\n",
       "      <th rowspan=\"2\" valign=\"top\">Nissan</th>\n",
       "      <th>Green</th>\n",
       "      <td>2</td>\n",
       "      <td>2</td>\n",
       "    </tr>\n",
       "    <tr>\n",
       "      <th>Red</th>\n",
       "      <td>1</td>\n",
       "      <td>1</td>\n",
       "    </tr>\n",
       "    <tr>\n",
       "      <th rowspan=\"3\" valign=\"top\">Toyota</th>\n",
       "      <th>Black</th>\n",
       "      <td>2</td>\n",
       "      <td>2</td>\n",
       "    </tr>\n",
       "    <tr>\n",
       "      <th>Blue</th>\n",
       "      <td>1</td>\n",
       "      <td>1</td>\n",
       "    </tr>\n",
       "    <tr>\n",
       "      <th>Silver</th>\n",
       "      <td>1</td>\n",
       "      <td>1</td>\n",
       "    </tr>\n",
       "  </tbody>\n",
       "</table>\n",
       "</div>"
      ],
      "text/plain": [
       "                  Make  Color\n",
       "Make      Color              \n",
       "Chevrolet Green      1      1\n",
       "          Silver     1      1\n",
       "          White      2      2\n",
       "Dodge     Black      1      1\n",
       "          Silver     2      2\n",
       "Ford      Black      3      3\n",
       "          Red        1      1\n",
       "          Silver     1      1\n",
       "Honda     Blue       2      2\n",
       "          Red        1      1\n",
       "          Silver     1      1\n",
       "          White      1      1\n",
       "Nissan    Green      2      2\n",
       "          Red        1      1\n",
       "Toyota    Black      2      2\n",
       "          Blue       1      1\n",
       "          Silver     1      1"
      ]
     },
     "execution_count": 21,
     "metadata": {},
     "output_type": "execute_result"
    }
   ],
   "source": [
    "cols = ['Make', 'Color']\n",
    "car.groupby(cols)[cols].count()"
   ]
  },
  {
   "cell_type": "markdown",
   "id": "3821436a",
   "metadata": {},
   "source": [
    "## adding a sum colunm to the filtered data"
   ]
  },
  {
   "cell_type": "code",
   "execution_count": 30,
   "id": "6ce6786c",
   "metadata": {},
   "outputs": [
    {
     "name": "stdout",
     "output_type": "stream",
     "text": [
      "Color      Black  Blue  Green  Red  Silver  White  Color_sum\n",
      "Make                                                        \n",
      "Chevrolet      0     0      1    0       1      2          4\n",
      "Dodge          1     0      0    0       2      0          3\n",
      "Ford           3     0      0    1       1      0          5\n",
      "Honda          0     2      0    1       1      1          5\n",
      "Nissan         0     0      2    1       0      0          3\n",
      "Toyota         2     1      0    0       1      0          4\n"
     ]
    }
   ],
   "source": [
    "\n",
    "colorData['Color_sum'] = colorData.sum(axis=1)\n",
    "print(colorData)"
   ]
  },
  {
   "cell_type": "markdown",
   "id": "52ee9db8",
   "metadata": {},
   "source": [
    "## counting rows and columns"
   ]
  },
  {
   "cell_type": "code",
   "execution_count": 39,
   "id": "ac1c1c6a",
   "metadata": {},
   "outputs": [
    {
     "name": "stdout",
     "output_type": "stream",
     "text": [
      "24\n",
      "7\n"
     ]
    }
   ],
   "source": [
    "row_count= car.shape[0]\n",
    "print(row_count)\n",
    "\n",
    "col_count= car.shape[1]\n",
    "print(col_count)"
   ]
  },
  {
   "cell_type": "markdown",
   "id": "1f16a197",
   "metadata": {},
   "source": [
    "column_count= car.shape[1]\n",
    "print(column_count)"
   ]
  },
  {
   "cell_type": "code",
   "execution_count": null,
   "id": "41865fc2",
   "metadata": {},
   "outputs": [],
   "source": [
    "queryData=car.query"
   ]
  }
 ],
 "metadata": {
  "kernelspec": {
   "display_name": "Python 3 (ipykernel)",
   "language": "python",
   "name": "python3"
  },
  "language_info": {
   "codemirror_mode": {
    "name": "ipython",
    "version": 3
   },
   "file_extension": ".py",
   "mimetype": "text/x-python",
   "name": "python",
   "nbconvert_exporter": "python",
   "pygments_lexer": "ipython3",
   "version": "3.9.13"
  }
 },
 "nbformat": 4,
 "nbformat_minor": 5
}
