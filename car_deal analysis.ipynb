{
 "cells": [
  {
   "cell_type": "markdown",
   "id": "c8494cb5",
   "metadata": {},
   "source": [
    "## Car yard Analysis"
   ]
  },
  {
   "cell_type": "code",
   "execution_count": 2,
   "id": "0d9781c2",
   "metadata": {},
   "outputs": [
    {
     "data": {
      "text/html": [
       "<div>\n",
       "<style scoped>\n",
       "    .dataframe tbody tr th:only-of-type {\n",
       "        vertical-align: middle;\n",
       "    }\n",
       "\n",
       "    .dataframe tbody tr th {\n",
       "        vertical-align: top;\n",
       "    }\n",
       "\n",
       "    .dataframe thead th {\n",
       "        text-align: right;\n",
       "    }\n",
       "</style>\n",
       "<table border=\"1\" class=\"dataframe\">\n",
       "  <thead>\n",
       "    <tr style=\"text-align: right;\">\n",
       "      <th></th>\n",
       "      <th>Make</th>\n",
       "      <th>Model</th>\n",
       "      <th>Color</th>\n",
       "      <th>Mileage</th>\n",
       "      <th>Price</th>\n",
       "      <th>Cost</th>\n",
       "    </tr>\n",
       "  </thead>\n",
       "  <tbody>\n",
       "    <tr>\n",
       "      <th>0</th>\n",
       "      <td>Honda</td>\n",
       "      <td>Accord</td>\n",
       "      <td>Red</td>\n",
       "      <td>63512</td>\n",
       "      <td>4000</td>\n",
       "      <td>3000</td>\n",
       "    </tr>\n",
       "    <tr>\n",
       "      <th>1</th>\n",
       "      <td>Honda</td>\n",
       "      <td>Accord</td>\n",
       "      <td>Blue</td>\n",
       "      <td>95135</td>\n",
       "      <td>2500</td>\n",
       "      <td>2000</td>\n",
       "    </tr>\n",
       "    <tr>\n",
       "      <th>2</th>\n",
       "      <td>Honda</td>\n",
       "      <td>Accord</td>\n",
       "      <td>Silver</td>\n",
       "      <td>101354</td>\n",
       "      <td>2000</td>\n",
       "      <td>1500</td>\n",
       "    </tr>\n",
       "    <tr>\n",
       "      <th>3</th>\n",
       "      <td>Toyota</td>\n",
       "      <td>Camry</td>\n",
       "      <td>Black</td>\n",
       "      <td>75006</td>\n",
       "      <td>2198</td>\n",
       "      <td>1900</td>\n",
       "    </tr>\n",
       "    <tr>\n",
       "      <th>4</th>\n",
       "      <td>Nissan</td>\n",
       "      <td>Altima</td>\n",
       "      <td>Green</td>\n",
       "      <td>69847</td>\n",
       "      <td>3826</td>\n",
       "      <td>3000</td>\n",
       "    </tr>\n",
       "  </tbody>\n",
       "</table>\n",
       "</div>"
      ],
      "text/plain": [
       "     Make   Model   Color  Mileage  Price  Cost\n",
       "0   Honda  Accord     Red    63512   4000  3000\n",
       "1   Honda  Accord    Blue    95135   2500  2000\n",
       "2   Honda  Accord  Silver   101354   2000  1500\n",
       "3  Toyota   Camry   Black    75006   2198  1900\n",
       "4  Nissan  Altima   Green    69847   3826  3000"
      ]
     },
     "execution_count": 2,
     "metadata": {},
     "output_type": "execute_result"
    }
   ],
   "source": [
    "import pandas as pd\n",
    "\n",
    "car = pd.read_excel(\"Car Dealer.xlsx\")\n",
    "car.head()"
   ]
  },
  {
   "cell_type": "markdown",
   "id": "da3c2bee",
   "metadata": {},
   "source": [
    "## How to dispaly specific columns"
   ]
  },
  {
   "cell_type": "code",
   "execution_count": 16,
   "id": "32310a2d",
   "metadata": {},
   "outputs": [
    {
     "data": {
      "text/html": [
       "<div>\n",
       "<style scoped>\n",
       "    .dataframe tbody tr th:only-of-type {\n",
       "        vertical-align: middle;\n",
       "    }\n",
       "\n",
       "    .dataframe tbody tr th {\n",
       "        vertical-align: top;\n",
       "    }\n",
       "\n",
       "    .dataframe thead th {\n",
       "        text-align: right;\n",
       "    }\n",
       "</style>\n",
       "<table border=\"1\" class=\"dataframe\">\n",
       "  <thead>\n",
       "    <tr style=\"text-align: right;\">\n",
       "      <th></th>\n",
       "      <th>Make</th>\n",
       "      <th>Model</th>\n",
       "      <th>Color</th>\n",
       "    </tr>\n",
       "  </thead>\n",
       "  <tbody>\n",
       "    <tr>\n",
       "      <th>0</th>\n",
       "      <td>Honda</td>\n",
       "      <td>Accord</td>\n",
       "      <td>Red</td>\n",
       "    </tr>\n",
       "    <tr>\n",
       "      <th>1</th>\n",
       "      <td>Honda</td>\n",
       "      <td>Accord</td>\n",
       "      <td>Blue</td>\n",
       "    </tr>\n",
       "    <tr>\n",
       "      <th>2</th>\n",
       "      <td>Honda</td>\n",
       "      <td>Accord</td>\n",
       "      <td>Silver</td>\n",
       "    </tr>\n",
       "    <tr>\n",
       "      <th>3</th>\n",
       "      <td>Toyota</td>\n",
       "      <td>Camry</td>\n",
       "      <td>Black</td>\n",
       "    </tr>\n",
       "    <tr>\n",
       "      <th>4</th>\n",
       "      <td>Nissan</td>\n",
       "      <td>Altima</td>\n",
       "      <td>Green</td>\n",
       "    </tr>\n",
       "  </tbody>\n",
       "</table>\n",
       "</div>"
      ],
      "text/plain": [
       "     Make   Model   Color\n",
       "0   Honda  Accord     Red\n",
       "1   Honda  Accord    Blue\n",
       "2   Honda  Accord  Silver\n",
       "3  Toyota   Camry   Black\n",
       "4  Nissan  Altima   Green"
      ]
     },
     "execution_count": 16,
     "metadata": {},
     "output_type": "execute_result"
    }
   ],
   "source": [
    "car = pd.read_excel(\"Car Dealer.xlsx\", usecols='A, B, C')\n",
    "car.head()"
   ]
  },
  {
   "cell_type": "markdown",
   "id": "feaa0acb",
   "metadata": {},
   "source": [
    "## Count the number of cars"
   ]
  },
  {
   "cell_type": "code",
   "execution_count": 18,
   "id": "17652698",
   "metadata": {},
   "outputs": [
    {
     "name": "stdout",
     "output_type": "stream",
     "text": [
      "24\n"
     ]
    }
   ],
   "source": [
    "total_cars=car.shape[0]\n",
    "print(total_cars)"
   ]
  },
  {
   "cell_type": "markdown",
   "id": "60466568",
   "metadata": {},
   "source": [
    "## Summary of car colors"
   ]
  },
  {
   "cell_type": "code",
   "execution_count": 24,
   "id": "b8e5c694",
   "metadata": {},
   "outputs": [
    {
     "name": "stdout",
     "output_type": "stream",
     "text": [
      "Color  Black  Blue  Green  Red  Silver  White\n",
      "Make       6     3      3    3       6      3\n",
      "Model      6     3      3    3       6      3\n"
     ]
    }
   ],
   "source": [
    "colors = car.pivot_table(index=[], columns=['Color'], aggfunc='count')\n",
    "print(colors)"
   ]
  },
  {
   "cell_type": "markdown",
   "id": "1efb0508",
   "metadata": {},
   "source": [
    "## Adding discount column"
   ]
  },
  {
   "cell_type": "code",
   "execution_count": 5,
   "id": "a8b3481f",
   "metadata": {},
   "outputs": [
    {
     "name": "stdout",
     "output_type": "stream",
     "text": [
      "         Make      Model   Color  Mileage  Price  Cost  Discounted_Price\n",
      "0       Honda     Accord     Red    63512   4000  3000              1000\n",
      "1       Honda     Accord    Blue    95135   2500  2000               500\n",
      "2       Honda     Accord  Silver   101354   2000  1500               500\n",
      "3      Toyota      Camry   Black    75006   2198  1900               298\n",
      "4      Nissan     Altima   Green    69847   3826  3000               826\n",
      "5      Nissan     Altima   Green    55233   2970  2500               470\n",
      "6      Toyota    Corolla   Black    87278   2224  2100               124\n",
      "7      Toyota    Corolla    Blue   130684   2798  2200               598\n",
      "8      Toyota    Corolla  Silver    59169   2160  2000               160\n",
      "9       Honda      Civic   White   138789   2723  1900               823\n",
      "10       Ford      F-150   Black    89073   3950  3000               950\n",
      "11  Chevrolet  Silverado   Green   109231   4959  4500               459\n",
      "12  Chevrolet     Impala  Silver    87675   3791  3500               291\n",
      "13  Chevrolet     Impala   White   140811   2340  2000               340\n",
      "14  Chevrolet     Malibu   White   139300   3361  3000               361\n",
      "15       Ford     Escape   Black    63259   3196  3050               146\n",
      "16       Ford     Escape     Red    40826   4397  3900               497\n",
      "17       Ford    Mustang  Silver    41560   3706  3100               606\n",
      "18      Honda        CRV    Blue    49326   4745  4100               645\n",
      "19     Nissan     Maxima     Red   101856   2914  2500               414\n",
      "20       Ford     Fusion   Black    42542   2659  2100               559\n",
      "21      Dodge    Charger  Silver    34853   4349  3500               849\n",
      "22      Dodge    Charger  Silver    58173   4252  4000               252\n",
      "23      Dodge    Charger   Black   136775   2090  1800               290\n"
     ]
    }
   ],
   "source": [
    "import pandas as pd\n",
    "car = pd.read_excel(\"Car Dealer.xlsx\")\n",
    "car['Discounted_Price'] = car.apply(lambda row: row.Price - row.Cost, axis = 1)\n",
    "print(car)\n",
    "                                    "
   ]
  },
  {
   "cell_type": "markdown",
   "id": "b4f0a398",
   "metadata": {},
   "source": [
    "## Summary of number of each make in the yard"
   ]
  },
  {
   "cell_type": "code",
   "execution_count": 7,
   "id": "f2f07872",
   "metadata": {},
   "outputs": [
    {
     "name": "stdout",
     "output_type": "stream",
     "text": [
      "Make              Chevrolet  Dodge  Ford  Honda  Nissan  Toyota\n",
      "Color                     4      3     5      5       3       4\n",
      "Cost                      4      3     5      5       3       4\n",
      "Discounted_Price          4      3     5      5       3       4\n",
      "Mileage                   4      3     5      5       3       4\n",
      "Model                     4      3     5      5       3       4\n",
      "Price                     4      3     5      5       3       4\n"
     ]
    }
   ],
   "source": [
    "colors = car.pivot_table(index=[], columns=['Make'], aggfunc='count')\n",
    "print(colors)"
   ]
  },
  {
   "cell_type": "markdown",
   "id": "2ad82ab3",
   "metadata": {},
   "source": [
    "## List of car make with mileage gratee than 30000"
   ]
  },
  {
   "cell_type": "code",
   "execution_count": 19,
   "id": "24947f87",
   "metadata": {},
   "outputs": [
    {
     "data": {
      "text/html": [
       "<div>\n",
       "<style scoped>\n",
       "    .dataframe tbody tr th:only-of-type {\n",
       "        vertical-align: middle;\n",
       "    }\n",
       "\n",
       "    .dataframe tbody tr th {\n",
       "        vertical-align: top;\n",
       "    }\n",
       "\n",
       "    .dataframe thead th {\n",
       "        text-align: right;\n",
       "    }\n",
       "</style>\n",
       "<table border=\"1\" class=\"dataframe\">\n",
       "  <thead>\n",
       "    <tr style=\"text-align: right;\">\n",
       "      <th></th>\n",
       "      <th>Make</th>\n",
       "      <th>Model</th>\n",
       "      <th>Color</th>\n",
       "      <th>Mileage</th>\n",
       "      <th>Price</th>\n",
       "      <th>Cost</th>\n",
       "      <th>Discounted_Price</th>\n",
       "    </tr>\n",
       "  </thead>\n",
       "  <tbody>\n",
       "    <tr>\n",
       "      <th>1</th>\n",
       "      <td>Honda</td>\n",
       "      <td>Accord</td>\n",
       "      <td>Blue</td>\n",
       "      <td>95135</td>\n",
       "      <td>2500</td>\n",
       "      <td>2000</td>\n",
       "      <td>500</td>\n",
       "    </tr>\n",
       "    <tr>\n",
       "      <th>2</th>\n",
       "      <td>Honda</td>\n",
       "      <td>Accord</td>\n",
       "      <td>Silver</td>\n",
       "      <td>101354</td>\n",
       "      <td>2000</td>\n",
       "      <td>1500</td>\n",
       "      <td>500</td>\n",
       "    </tr>\n",
       "    <tr>\n",
       "      <th>6</th>\n",
       "      <td>Toyota</td>\n",
       "      <td>Corolla</td>\n",
       "      <td>Black</td>\n",
       "      <td>87278</td>\n",
       "      <td>2224</td>\n",
       "      <td>2100</td>\n",
       "      <td>124</td>\n",
       "    </tr>\n",
       "    <tr>\n",
       "      <th>7</th>\n",
       "      <td>Toyota</td>\n",
       "      <td>Corolla</td>\n",
       "      <td>Blue</td>\n",
       "      <td>130684</td>\n",
       "      <td>2798</td>\n",
       "      <td>2200</td>\n",
       "      <td>598</td>\n",
       "    </tr>\n",
       "    <tr>\n",
       "      <th>9</th>\n",
       "      <td>Honda</td>\n",
       "      <td>Civic</td>\n",
       "      <td>White</td>\n",
       "      <td>138789</td>\n",
       "      <td>2723</td>\n",
       "      <td>1900</td>\n",
       "      <td>823</td>\n",
       "    </tr>\n",
       "    <tr>\n",
       "      <th>10</th>\n",
       "      <td>Ford</td>\n",
       "      <td>F-150</td>\n",
       "      <td>Black</td>\n",
       "      <td>89073</td>\n",
       "      <td>3950</td>\n",
       "      <td>3000</td>\n",
       "      <td>950</td>\n",
       "    </tr>\n",
       "    <tr>\n",
       "      <th>11</th>\n",
       "      <td>Chevrolet</td>\n",
       "      <td>Silverado</td>\n",
       "      <td>Green</td>\n",
       "      <td>109231</td>\n",
       "      <td>4959</td>\n",
       "      <td>4500</td>\n",
       "      <td>459</td>\n",
       "    </tr>\n",
       "    <tr>\n",
       "      <th>12</th>\n",
       "      <td>Chevrolet</td>\n",
       "      <td>Impala</td>\n",
       "      <td>Silver</td>\n",
       "      <td>87675</td>\n",
       "      <td>3791</td>\n",
       "      <td>3500</td>\n",
       "      <td>291</td>\n",
       "    </tr>\n",
       "    <tr>\n",
       "      <th>13</th>\n",
       "      <td>Chevrolet</td>\n",
       "      <td>Impala</td>\n",
       "      <td>White</td>\n",
       "      <td>140811</td>\n",
       "      <td>2340</td>\n",
       "      <td>2000</td>\n",
       "      <td>340</td>\n",
       "    </tr>\n",
       "    <tr>\n",
       "      <th>14</th>\n",
       "      <td>Chevrolet</td>\n",
       "      <td>Malibu</td>\n",
       "      <td>White</td>\n",
       "      <td>139300</td>\n",
       "      <td>3361</td>\n",
       "      <td>3000</td>\n",
       "      <td>361</td>\n",
       "    </tr>\n",
       "    <tr>\n",
       "      <th>19</th>\n",
       "      <td>Nissan</td>\n",
       "      <td>Maxima</td>\n",
       "      <td>Red</td>\n",
       "      <td>101856</td>\n",
       "      <td>2914</td>\n",
       "      <td>2500</td>\n",
       "      <td>414</td>\n",
       "    </tr>\n",
       "    <tr>\n",
       "      <th>23</th>\n",
       "      <td>Dodge</td>\n",
       "      <td>Charger</td>\n",
       "      <td>Black</td>\n",
       "      <td>136775</td>\n",
       "      <td>2090</td>\n",
       "      <td>1800</td>\n",
       "      <td>290</td>\n",
       "    </tr>\n",
       "  </tbody>\n",
       "</table>\n",
       "</div>"
      ],
      "text/plain": [
       "         Make      Model   Color  Mileage  Price  Cost  Discounted_Price\n",
       "1       Honda     Accord    Blue    95135   2500  2000               500\n",
       "2       Honda     Accord  Silver   101354   2000  1500               500\n",
       "6      Toyota    Corolla   Black    87278   2224  2100               124\n",
       "7      Toyota    Corolla    Blue   130684   2798  2200               598\n",
       "9       Honda      Civic   White   138789   2723  1900               823\n",
       "10       Ford      F-150   Black    89073   3950  3000               950\n",
       "11  Chevrolet  Silverado   Green   109231   4959  4500               459\n",
       "12  Chevrolet     Impala  Silver    87675   3791  3500               291\n",
       "13  Chevrolet     Impala   White   140811   2340  2000               340\n",
       "14  Chevrolet     Malibu   White   139300   3361  3000               361\n",
       "19     Nissan     Maxima     Red   101856   2914  2500               414\n",
       "23      Dodge    Charger   Black   136775   2090  1800               290"
      ]
     },
     "execution_count": 19,
     "metadata": {},
     "output_type": "execute_result"
    }
   ],
   "source": [
    "car[car['Mileage'] > 80000]\n"
   ]
  },
  {
   "cell_type": "markdown",
   "id": "dedcfb95",
   "metadata": {},
   "source": [
    "## mileage is greater than 80000 and price 2000 "
   ]
  },
  {
   "cell_type": "code",
   "execution_count": 24,
   "id": "70635b55",
   "metadata": {},
   "outputs": [
    {
     "data": {
      "text/html": [
       "<div>\n",
       "<style scoped>\n",
       "    .dataframe tbody tr th:only-of-type {\n",
       "        vertical-align: middle;\n",
       "    }\n",
       "\n",
       "    .dataframe tbody tr th {\n",
       "        vertical-align: top;\n",
       "    }\n",
       "\n",
       "    .dataframe thead th {\n",
       "        text-align: right;\n",
       "    }\n",
       "</style>\n",
       "<table border=\"1\" class=\"dataframe\">\n",
       "  <thead>\n",
       "    <tr style=\"text-align: right;\">\n",
       "      <th></th>\n",
       "      <th>Make</th>\n",
       "      <th>Model</th>\n",
       "      <th>Color</th>\n",
       "      <th>Mileage</th>\n",
       "      <th>Price</th>\n",
       "      <th>Cost</th>\n",
       "      <th>Discounted_Price</th>\n",
       "    </tr>\n",
       "  </thead>\n",
       "  <tbody>\n",
       "    <tr>\n",
       "      <th>10</th>\n",
       "      <td>Ford</td>\n",
       "      <td>F-150</td>\n",
       "      <td>Black</td>\n",
       "      <td>89073</td>\n",
       "      <td>3950</td>\n",
       "      <td>3000</td>\n",
       "      <td>950</td>\n",
       "    </tr>\n",
       "    <tr>\n",
       "      <th>11</th>\n",
       "      <td>Chevrolet</td>\n",
       "      <td>Silverado</td>\n",
       "      <td>Green</td>\n",
       "      <td>109231</td>\n",
       "      <td>4959</td>\n",
       "      <td>4500</td>\n",
       "      <td>459</td>\n",
       "    </tr>\n",
       "    <tr>\n",
       "      <th>12</th>\n",
       "      <td>Chevrolet</td>\n",
       "      <td>Impala</td>\n",
       "      <td>Silver</td>\n",
       "      <td>87675</td>\n",
       "      <td>3791</td>\n",
       "      <td>3500</td>\n",
       "      <td>291</td>\n",
       "    </tr>\n",
       "    <tr>\n",
       "      <th>14</th>\n",
       "      <td>Chevrolet</td>\n",
       "      <td>Malibu</td>\n",
       "      <td>White</td>\n",
       "      <td>139300</td>\n",
       "      <td>3361</td>\n",
       "      <td>3000</td>\n",
       "      <td>361</td>\n",
       "    </tr>\n",
       "  </tbody>\n",
       "</table>\n",
       "</div>"
      ],
      "text/plain": [
       "         Make      Model   Color  Mileage  Price  Cost  Discounted_Price\n",
       "10       Ford      F-150   Black    89073   3950  3000               950\n",
       "11  Chevrolet  Silverado   Green   109231   4959  4500               459\n",
       "12  Chevrolet     Impala  Silver    87675   3791  3500               291\n",
       "14  Chevrolet     Malibu   White   139300   3361  3000               361"
      ]
     },
     "execution_count": 24,
     "metadata": {},
     "output_type": "execute_result"
    }
   ],
   "source": [
    "car[(car['Mileage'] > 80000) & (car['Price'] >3000)]"
   ]
  },
  {
   "cell_type": "code",
   "execution_count": null,
   "id": "2e21368c",
   "metadata": {},
   "outputs": [],
   "source": []
  }
 ],
 "metadata": {
  "kernelspec": {
   "display_name": "Python 3 (ipykernel)",
   "language": "python",
   "name": "python3"
  },
  "language_info": {
   "codemirror_mode": {
    "name": "ipython",
    "version": 3
   },
   "file_extension": ".py",
   "mimetype": "text/x-python",
   "name": "python",
   "nbconvert_exporter": "python",
   "pygments_lexer": "ipython3",
   "version": "3.9.13"
  }
 },
 "nbformat": 4,
 "nbformat_minor": 5
}
